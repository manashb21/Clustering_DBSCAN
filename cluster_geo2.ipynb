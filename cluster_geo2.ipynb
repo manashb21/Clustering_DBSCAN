{
 "cells": [
  {
   "cell_type": "code",
   "execution_count": 1,
   "id": "d4eaaf41",
   "metadata": {},
   "outputs": [],
   "source": [
    "import numpy as np\n",
    "import random\n",
    "from shapely.geometry import Polygon,Point\n",
    "import pandas as pd \n",
    "import h3\n",
    "import folium\n",
    "\n",
    "import matplotlib.pyplot as plt"
   ]
  },
  {
   "cell_type": "code",
   "execution_count": 2,
   "id": "9bb2f26e",
   "metadata": {},
   "outputs": [],
   "source": [
    "#defining the desired polygon\n",
    "poly = Polygon([(27.708160, 85.339501),\n",
    "                (27.703002, 85.372067),\n",
    "                (27.722503, 85.374131),\n",
    "                (27.718207, 85.345394)])"
   ]
  },
  {
   "cell_type": "code",
   "execution_count": 11,
   "id": "55324374",
   "metadata": {},
   "outputs": [],
   "source": [
    "#Defining the randomization generator\n",
    "\n",
    "#for clients\n",
    "def polygon_random_points(poly, num_points):\n",
    "    min_x, min_y, max_x, max_y = poly.bounds\n",
    "    \n",
    "    points = []\n",
    "\n",
    "    while len(points) < num_points:\n",
    "        random_point = Point([random.uniform(min_x, max_x), random.uniform(min_y, max_y)])\n",
    "        if (random_point.within(poly)):\n",
    "            points.append(random_point)\n",
    "    return points\n",
    "\n",
    "points = polygon_random_points(poly,100)\n",
    "\n",
    "latitude = []\n",
    "longitude = []\n",
    "\n",
    "# Printing the results.\n",
    "for p in points:\n",
    "    latitude.append(p.x)\n",
    "    longitude.append(p.y)\n",
    "\n",
    "df = pd.DataFrame()\n",
    "df['Latitude'] = latitude\n",
    "df['Longitude'] = longitude\n",
    "df['flag'] = np.random.randint(0,2,size=(df.shape[0],1))"
   ]
  },
  {
   "cell_type": "code",
   "execution_count": 12,
   "id": "910d5acd",
   "metadata": {},
   "outputs": [
    {
     "data": {
      "text/html": [
       "<div>\n",
       "<style scoped>\n",
       "    .dataframe tbody tr th:only-of-type {\n",
       "        vertical-align: middle;\n",
       "    }\n",
       "\n",
       "    .dataframe tbody tr th {\n",
       "        vertical-align: top;\n",
       "    }\n",
       "\n",
       "    .dataframe thead th {\n",
       "        text-align: right;\n",
       "    }\n",
       "</style>\n",
       "<table border=\"1\" class=\"dataframe\">\n",
       "  <thead>\n",
       "    <tr style=\"text-align: right;\">\n",
       "      <th></th>\n",
       "      <th>Latitude</th>\n",
       "      <th>Longitude</th>\n",
       "      <th>flag</th>\n",
       "    </tr>\n",
       "  </thead>\n",
       "  <tbody>\n",
       "    <tr>\n",
       "      <th>0</th>\n",
       "      <td>27.708430</td>\n",
       "      <td>85.345930</td>\n",
       "      <td>1</td>\n",
       "    </tr>\n",
       "    <tr>\n",
       "      <th>1</th>\n",
       "      <td>27.710369</td>\n",
       "      <td>85.369796</td>\n",
       "      <td>0</td>\n",
       "    </tr>\n",
       "    <tr>\n",
       "      <th>2</th>\n",
       "      <td>27.711291</td>\n",
       "      <td>85.344314</td>\n",
       "      <td>1</td>\n",
       "    </tr>\n",
       "    <tr>\n",
       "      <th>3</th>\n",
       "      <td>27.715295</td>\n",
       "      <td>85.350730</td>\n",
       "      <td>0</td>\n",
       "    </tr>\n",
       "    <tr>\n",
       "      <th>4</th>\n",
       "      <td>27.708709</td>\n",
       "      <td>85.339931</td>\n",
       "      <td>0</td>\n",
       "    </tr>\n",
       "    <tr>\n",
       "      <th>...</th>\n",
       "      <td>...</td>\n",
       "      <td>...</td>\n",
       "      <td>...</td>\n",
       "    </tr>\n",
       "    <tr>\n",
       "      <th>95</th>\n",
       "      <td>27.711159</td>\n",
       "      <td>85.343312</td>\n",
       "      <td>0</td>\n",
       "    </tr>\n",
       "    <tr>\n",
       "      <th>96</th>\n",
       "      <td>27.716422</td>\n",
       "      <td>85.347163</td>\n",
       "      <td>1</td>\n",
       "    </tr>\n",
       "    <tr>\n",
       "      <th>97</th>\n",
       "      <td>27.712933</td>\n",
       "      <td>85.354281</td>\n",
       "      <td>1</td>\n",
       "    </tr>\n",
       "    <tr>\n",
       "      <th>98</th>\n",
       "      <td>27.707316</td>\n",
       "      <td>85.368427</td>\n",
       "      <td>1</td>\n",
       "    </tr>\n",
       "    <tr>\n",
       "      <th>99</th>\n",
       "      <td>27.720049</td>\n",
       "      <td>85.371918</td>\n",
       "      <td>0</td>\n",
       "    </tr>\n",
       "  </tbody>\n",
       "</table>\n",
       "<p>100 rows × 3 columns</p>\n",
       "</div>"
      ],
      "text/plain": [
       "     Latitude  Longitude  flag\n",
       "0   27.708430  85.345930     1\n",
       "1   27.710369  85.369796     0\n",
       "2   27.711291  85.344314     1\n",
       "3   27.715295  85.350730     0\n",
       "4   27.708709  85.339931     0\n",
       "..        ...        ...   ...\n",
       "95  27.711159  85.343312     0\n",
       "96  27.716422  85.347163     1\n",
       "97  27.712933  85.354281     1\n",
       "98  27.707316  85.368427     1\n",
       "99  27.720049  85.371918     0\n",
       "\n",
       "[100 rows x 3 columns]"
      ]
     },
     "execution_count": 12,
     "metadata": {},
     "output_type": "execute_result"
    }
   ],
   "source": [
    "df"
   ]
  },
  {
   "cell_type": "code",
   "execution_count": 17,
   "id": "489751ec",
   "metadata": {},
   "outputs": [],
   "source": [
    "from sklearn.cluster import DBSCAN\n",
    "from sklearn.metrics import silhouette_score"
   ]
  },
  {
   "cell_type": "code",
   "execution_count": 18,
   "id": "c2569642",
   "metadata": {},
   "outputs": [
    {
     "data": {
      "text/plain": [
       "21"
      ]
     },
     "execution_count": 18,
     "metadata": {},
     "output_type": "execute_result"
    }
   ],
   "source": [
    "kms_per_radian = 6371.0088\n",
    "epsilon = 0.1/ kms_per_radian\n",
    "clustering = DBSCAN(eps=epsilon, min_samples=2, algorithm='ball_tree', metric='haversine').fit(np.radians(df[['Latitude','Longitude']]))\n",
    "cluster_labels = clustering.labels_\n",
    "num_clusters = len(set(cluster_labels))\n",
    "num_clusters"
   ]
  },
  {
   "cell_type": "code",
   "execution_count": 28,
   "id": "4f288559",
   "metadata": {},
   "outputs": [
    {
     "data": {
      "text/plain": [
       "array([-1, -1,  0,  1, -1, -1,  2, -1, -1,  3,  4,  5,  6, -1,  7,  8, -1,\n",
       "       -1,  8, -1, -1, -1, -1,  9, -1,  6, -1, 10, -1, -1, 11, -1, -1,  0,\n",
       "       -1, -1, 11,  1, -1, 12, -1, -1, -1, -1, 13,  4, -1, -1, -1, -1, -1,\n",
       "       14, -1, -1, 15, 14, 10, -1, 16,  5, -1, 16, 15, -1, -1, 12,  0, -1,\n",
       "        2, 17, -1, -1, 18, -1,  9, -1, 17, -1,  4, -1, 13, -1, 13, -1, -1,\n",
       "        7, -1, -1, -1,  3, -1, -1, 19, 18, -1,  0, -1, 19, -1, -1],\n",
       "      dtype=int64)"
      ]
     },
     "execution_count": 28,
     "metadata": {},
     "output_type": "execute_result"
    }
   ],
   "source": [
    "cluster_labels"
   ]
  },
  {
   "cell_type": "code",
   "execution_count": 20,
   "id": "895dc340",
   "metadata": {},
   "outputs": [
    {
     "data": {
      "text/plain": [
       "-0.12021688287107102"
      ]
     },
     "execution_count": 20,
     "metadata": {},
     "output_type": "execute_result"
    }
   ],
   "source": [
    "silhouette_score(df[['Latitude','Longitude']], cluster_labels)"
   ]
  },
  {
   "cell_type": "code",
   "execution_count": null,
   "id": "feccaef3",
   "metadata": {},
   "outputs": [],
   "source": []
  },
  {
   "cell_type": "code",
   "execution_count": null,
   "id": "df42e393",
   "metadata": {},
   "outputs": [],
   "source": []
  }
 ],
 "metadata": {
  "kernelspec": {
   "display_name": "Python 3 (ipykernel)",
   "language": "python",
   "name": "python3"
  },
  "language_info": {
   "codemirror_mode": {
    "name": "ipython",
    "version": 3
   },
   "file_extension": ".py",
   "mimetype": "text/x-python",
   "name": "python",
   "nbconvert_exporter": "python",
   "pygments_lexer": "ipython3",
   "version": "3.9.7"
  }
 },
 "nbformat": 4,
 "nbformat_minor": 5
}
